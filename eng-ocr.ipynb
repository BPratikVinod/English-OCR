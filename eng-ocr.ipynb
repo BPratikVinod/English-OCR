{
 "cells": [
  {
   "cell_type": "markdown",
   "metadata": {},
   "source": [
    "# Import all necessary libraries"
   ]
  },
  {
   "cell_type": "code",
   "execution_count": 5,
   "metadata": {},
   "outputs": [],
   "source": [
    "import io\n",
    "import json\n",
    "import cv2\n",
    "import numpy as np\n",
    "import requests\n",
    "img = cv2.imread(\"test_image_ocr.jpg\")\n",
    "height, width, _ = img.shape"
   ]
  },
  {
   "cell_type": "markdown",
   "metadata": {},
   "source": [
    "# Cutting image"
   ]
  },
  {
   "cell_type": "code",
   "execution_count": 6,
   "metadata": {},
   "outputs": [],
   "source": [
    "roi = img[0: height, 400: width]"
   ]
  },
  {
   "cell_type": "markdown",
   "metadata": {},
   "source": [
    "# OCR"
   ]
  },
  {
   "cell_type": "code",
   "execution_count": 8,
   "metadata": {},
   "outputs": [],
   "source": [
    "url_api = \"https://api.ocr.space/parse/image\"\n",
    "_, compressedimage = cv2.imencode(\"test_image_ocr.jpg\", roi, [1, 90])\n",
    "file_bytes = io.BytesIO(compressedimage)"
   ]
  },
  {
   "cell_type": "code",
   "execution_count": 9,
   "metadata": {},
   "outputs": [],
   "source": [
    "result = requests.post(url_api,\n",
    "              files = {\"test_image_ocr.jpg\": file_bytes},\n",
    "              data = {\"apikey\": \"K88208729188957\",\n",
    "                      \"language\": \"eng\"})"
   ]
  },
  {
   "cell_type": "markdown",
   "metadata": {},
   "source": [
    "# Decoding result from json"
   ]
  },
  {
   "cell_type": "code",
   "execution_count": 10,
   "metadata": {},
   "outputs": [],
   "source": [
    "result = result.content.decode()\n",
    "result = json.loads(result)"
   ]
  },
  {
   "cell_type": "markdown",
   "metadata": {},
   "source": [
    "# Extracting only text from the result"
   ]
  },
  {
   "cell_type": "code",
   "execution_count": 11,
   "metadata": {},
   "outputs": [
    {
     "name": "stdout",
     "output_type": "stream",
     "text": [
      "HALLMARK\n",
      "IMMIGRATION CONSULTANTS\n",
      "milestone to your success\n",
      "FREE IELTS\n",
      "PREPARATION\n",
      "FROM\n",
      "HALLMARK\n",
      "Join now\n",
      "Iration.com\n",
      "+91 8872038888\n",
      "\n"
     ]
    }
   ],
   "source": [
    "parsed_results = result.get(\"ParsedResults\")[0]\n",
    "text_detected = parsed_results.get(\"ParsedText\")\n",
    "print(text_detected)"
   ]
  }
 ],
 "metadata": {
  "kernelspec": {
   "display_name": "Python 3",
   "language": "python",
   "name": "python3"
  },
  "language_info": {
   "codemirror_mode": {
    "name": "ipython",
    "version": 3
   },
   "file_extension": ".py",
   "mimetype": "text/x-python",
   "name": "python",
   "nbconvert_exporter": "python",
   "pygments_lexer": "ipython3",
   "version": "3.11.2"
  }
 },
 "nbformat": 4,
 "nbformat_minor": 2
}
